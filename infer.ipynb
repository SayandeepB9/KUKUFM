{
 "cells": [
  {
   "cell_type": "code",
   "execution_count": 1,
   "metadata": {},
   "outputs": [
    {
     "ename": "ModuleNotFoundError",
     "evalue": "No module named 'langchain_openai'",
     "output_type": "error",
     "traceback": [
      "\u001b[31m---------------------------------------------------------------------------\u001b[39m",
      "\u001b[31mModuleNotFoundError\u001b[39m                       Traceback (most recent call last)",
      "\u001b[36mCell\u001b[39m\u001b[36m \u001b[39m\u001b[32mIn[1]\u001b[39m\u001b[32m, line 2\u001b[39m\n\u001b[32m      1\u001b[39m \u001b[38;5;66;03m# Import necessary modules\u001b[39;00m\n\u001b[32m----> \u001b[39m\u001b[32m2\u001b[39m \u001b[38;5;28;01mfrom\u001b[39;00m\u001b[38;5;250m \u001b[39m\u001b[34;01mllm_api\u001b[39;00m\u001b[38;5;250m \u001b[39m\u001b[38;5;28;01mimport\u001b[39;00m llm_api\n\u001b[32m      3\u001b[39m \u001b[38;5;28;01mfrom\u001b[39;00m\u001b[38;5;250m \u001b[39m\u001b[34;01moutline_generation_agent\u001b[39;00m\u001b[38;5;250m \u001b[39m\u001b[38;5;28;01mimport\u001b[39;00m OutlineGenerator\n\u001b[32m      4\u001b[39m \u001b[38;5;28;01mfrom\u001b[39;00m\u001b[38;5;250m \u001b[39m\u001b[34;01mcharacter_development_agent\u001b[39;00m\u001b[38;5;250m \u001b[39m\u001b[38;5;28;01mimport\u001b[39;00m CharacterDevelopmentAgent\n",
      "\u001b[36mFile \u001b[39m\u001b[32mc:\\Users\\sagni\\OneDrive\\Desktop\\kukufm\\KUKUFM\\llm_api.py:2\u001b[39m\n\u001b[32m      1\u001b[39m \u001b[38;5;28;01mfrom\u001b[39;00m\u001b[38;5;250m \u001b[39m\u001b[34;01mlangchain_groq\u001b[39;00m\u001b[38;5;250m \u001b[39m\u001b[38;5;28;01mimport\u001b[39;00m ChatGroq\n\u001b[32m----> \u001b[39m\u001b[32m2\u001b[39m \u001b[38;5;28;01mfrom\u001b[39;00m\u001b[38;5;250m \u001b[39m\u001b[34;01mlangchain_openai\u001b[39;00m\u001b[38;5;250m \u001b[39m\u001b[38;5;28;01mimport\u001b[39;00m ChatOpenAI\n\u001b[32m      3\u001b[39m \u001b[38;5;28;01mimport\u001b[39;00m\u001b[38;5;250m \u001b[39m\u001b[34;01mos\u001b[39;00m\n\u001b[32m      4\u001b[39m \u001b[38;5;28;01mfrom\u001b[39;00m\u001b[38;5;250m \u001b[39m\u001b[34;01mopenai\u001b[39;00m\u001b[38;5;250m \u001b[39m\u001b[38;5;28;01mimport\u001b[39;00m OpenAI\n",
      "\u001b[31mModuleNotFoundError\u001b[39m: No module named 'langchain_openai'"
     ]
    }
   ],
   "source": [
    "# Import necessary modules\n",
    "from llm_api import llm_api\n",
    "from outline_generation_agent import OutlineGenerator\n",
    "from character_development_agent import CharacterDevelopmentAgent\n",
    "from plot_selector import StoryElementLibrary\n",
    "import os\n",
    "from dotenv import load_dotenv\n",
    "\n",
    "# Load environment variables\n",
    "load_dotenv()\n",
    "\n",
    "# Check if API keys are available\n",
    "groq_api_key = os.getenv('GROQ_API_KEY')\n",
    "openai_api_key = os.getenv('OPENAI_API_KEY')\n",
    "\n",
    "print(f\"GROQ API Key available: {groq_api_key is not None and groq_api_key != 'your_groq_api_key_here'}\")\n",
    "print(f\"OpenAI API Key available: {openai_api_key is not None and openai_api_key != 'your_openai_api_key_here'}\")"
   ]
  },
  {
   "cell_type": "code",
   "execution_count": null,
   "metadata": {},
   "outputs": [],
   "source": [
    "# Example usage of the LLM API\n",
    "\n",
    "# Initialize an LLM model\n",
    "model = \"gpt-4o-mini\"  # Can be changed to any supported model\n",
    "llm = llm_api(model=model)\n",
    "\n",
    "# Initialize story generation components\n",
    "outline_generator = OutlineGenerator(model=model, api_key=None)  # Uses environment variable\n",
    "character_developer = CharacterDevelopmentAgent(model=model, api_key=None)  # Uses environment variable\n",
    "story_library = StoryElementLibrary(model_name=model, api_key=None)  # Uses environment variable\n",
    "\n",
    "# Set a story topic\n",
    "story_topic = \"A mystery in an ancient temple\"\n",
    "\n",
    "# Generate an outline\n",
    "print(\"Generating story outline...\")\n",
    "outline = outline_generator.generate_outline(story_topic)\n",
    "\n",
    "# Develop characters\n",
    "print(\"\\nDeveloping characters...\")\n",
    "plot_summary = \"\\n\".join(outline)\n",
    "characters = character_developer.generate_characters(plot_summary)\n",
    "\n",
    "# Generate plot options\n",
    "print(\"\\nGenerating plot options...\")\n",
    "plot_options = story_library.generate_plot_options(outline, \"mystery\")"
   ]
  }
 ],
 "metadata": {
  "kernelspec": {
   "display_name": ".venv",
   "language": "python",
   "name": "python3"
  },
  "language_info": {
   "codemirror_mode": {
    "name": "ipython",
    "version": 3
   },
   "file_extension": ".py",
   "mimetype": "text/x-python",
   "name": "python",
   "nbconvert_exporter": "python",
   "pygments_lexer": "ipython3",
   "version": "3.11.4"
  }
 },
 "nbformat": 4,
 "nbformat_minor": 2
}
